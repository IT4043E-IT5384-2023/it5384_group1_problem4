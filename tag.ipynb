{
 "cells": [
  {
   "cell_type": "markdown",
   "metadata": {
    "id": "c1OZJS9bwRws"
   },
   "source": [
    "Library"
   ]
  },
  {
   "cell_type": "code",
   "execution_count": null,
   "metadata": {
    "id": "emb_9Uwl8YMW",
    "is_executing": true,
    "ExecuteTime": {
     "start_time": "2024-01-10T10:26:58.123559700Z"
    }
   },
   "outputs": [],
   "source": [
    "import pandas as pd\n",
    "import pandas as pd\n",
    "import matplotlib.pyplot as plt\n",
    "from sklearn.preprocessing import StandardScaler\n",
    "from sklearn.decomposition import PCA\n",
    "from sklearn.cluster import KMeans\n",
    "from sklearn.metrics import silhouette_score\n",
    "from sklearn.metrics import davies_bouldin_score\n",
    "import seaborn as sns"
   ]
  },
  {
   "cell_type": "code",
   "execution_count": null,
   "metadata": {
    "id": "a5mtO8qK8gYL",
    "is_executing": true
   },
   "outputs": [],
   "source": [
    "file_path = 'cleaned_data.csv'\n",
    "df = pd.read_csv(file_path)\n",
    "print(df)"
   ]
  },
  {
   "cell_type": "code",
   "execution_count": null,
   "metadata": {
    "colab": {
     "base_uri": "https://localhost:8080/"
    },
    "id": "VEqRNznm86Rn",
    "outputId": "e7caa052-ac49-41da-f8b8-670b57f3cb50",
    "is_executing": true
   },
   "outputs": [],
   "source": [
    "feature_names = df.columns.tolist()\n",
    "\n",
    "print(\"Feature names:\")\n",
    "print(feature_names)"
   ]
  },
  {
   "cell_type": "code",
   "execution_count": null,
   "metadata": {
    "colab": {
     "base_uri": "https://localhost:8080/",
     "height": 472
    },
    "id": "sV6Ki9gyDN-B",
    "outputId": "6b7ba66d-db3c-4d7f-a085-30e202945c3a",
    "is_executing": true
   },
   "outputs": [],
   "source": [
    "threshold_column = 'dailyNumberOfTransactions'\n",
    "plt.hist(df[threshold_column], bins=50, color='blue', alpha=0.7)\n",
    "plt.title(f'Distribution of {threshold_column}')\n",
    "plt.xlabel(threshold_column)\n",
    "plt.ylabel('Frequency')\n",
    "plt.show()"
   ]
  },
  {
   "cell_type": "code",
   "execution_count": null,
   "metadata": {
    "colab": {
     "base_uri": "https://localhost:8080/",
     "height": 472
    },
    "id": "1je2eUgzD4ca",
    "outputId": "caaa0735-5c6d-4732-f459-b8141feca991",
    "is_executing": true
   },
   "outputs": [],
   "source": [
    "threshold_column = 'balanceInUSD'\n",
    "plt.hist(df[threshold_column], bins=50, color='blue', alpha=0.7)\n",
    "plt.title(f'Distribution of {threshold_column}')\n",
    "plt.xlabel(threshold_column)\n",
    "plt.ylabel('Frequency')\n",
    "plt.show()\n"
   ]
  },
  {
   "cell_type": "code",
   "execution_count": null,
   "metadata": {
    "colab": {
     "base_uri": "https://localhost:8080/",
     "height": 472
    },
    "id": "tZt7NAYUuJkb",
    "outputId": "affce7bf-4c94-4c89-844d-101c39f392af",
    "is_executing": true
   },
   "outputs": [],
   "source": [
    "threshold_column = 'borrowInUSD'\n",
    "plt.hist(df[threshold_column], bins=50, color='blue', alpha=0.7)\n",
    "plt.title(f'Distribution of {threshold_column}')\n",
    "plt.xlabel(threshold_column)\n",
    "plt.ylabel('Frequency')\n",
    "plt.show()"
   ]
  },
  {
   "cell_type": "markdown",
   "metadata": {
    "id": "oduvMEu25MUj"
   },
   "source": [
    "Prepare for cluster"
   ]
  },
  {
   "cell_type": "code",
   "execution_count": null,
   "metadata": {
    "colab": {
     "base_uri": "https://localhost:8080/"
    },
    "id": "5_fe00DTJjiR",
    "outputId": "7d4c5d02-0528-46d1-8c57-24f4393c2ba3",
    "is_executing": true
   },
   "outputs": [],
   "source": [
    "# Feature Selection\n",
    "features = df[['balanceInUSD', 'borrowInUSD', 'dailyNumberOfTransactions']]\n",
    "\n",
    "# Feature Normalization\n",
    "scaler = StandardScaler()\n",
    "features_scaled = scaler.fit_transform(features)\n",
    "\n",
    "# Check for correlations\n",
    "print(\"Correlation matrix:\\n\", features.corr())\n",
    "\n",
    "# Dimensionality Reduction with PCA\n",
    "pca = PCA(n_components=2)  # Reduce to 2 dimensions for visualization\n",
    "features_reduced = pca.fit_transform(features_scaled)"
   ]
  },
  {
   "cell_type": "markdown",
   "metadata": {
    "id": "gG3EZHvfZ1GB"
   },
   "source": [
    "Elbow Method"
   ]
  },
  {
   "cell_type": "code",
   "execution_count": null,
   "metadata": {
    "colab": {
     "base_uri": "https://localhost:8080/",
     "height": 839
    },
    "id": "r_WZTbJtZ3gk",
    "outputId": "9348c983-9213-471b-81cd-1d4150c5c01a",
    "is_executing": true
   },
   "outputs": [],
   "source": [
    "inertia = []\n",
    "for k in range(1, 11):  # Test different numbers of clusters\n",
    "    kmeans = KMeans(n_clusters=k)\n",
    "    kmeans.fit(features_reduced)\n",
    "    inertia.append(kmeans.inertia_)\n",
    "\n",
    "plt.plot(range(1, 11), inertia)\n",
    "plt.title('Elbow Method')\n",
    "plt.xlabel('Number of clusters')\n",
    "plt.ylabel('Inertia')\n",
    "plt.show()"
   ]
  },
  {
   "cell_type": "markdown",
   "metadata": {
    "id": "tQf5RzhSZg6v"
   },
   "source": [
    "Davies-Bouldin Index\n"
   ]
  },
  {
   "cell_type": "code",
   "execution_count": null,
   "metadata": {
    "id": "8EKHp0FZZiPm",
    "is_executing": true
   },
   "outputs": [],
   "source": [
    "range_n_clusters = list(range(2, 21))\n",
    "db_scores = []\n",
    "\n",
    "for n_clusters in range_n_clusters:\n",
    "    clusterer = KMeans(n_clusters=n_clusters)\n",
    "    cluster_labels = clusterer.fit_predict(features_reduced)\n",
    "\n",
    "    # Compute the Davies-Bouldin score\n",
    "    score = davies_bouldin_score(features_reduced, cluster_labels)\n",
    "    db_scores.append(score)\n",
    "    print(\"For n_clusters = {}, Davies-Bouldin Index is {})\".format(n_clusters, score))\n",
    "\n",
    "# Find the number of clusters with the lowest Davies-Bouldin score\n",
    "optimal_clusters = range_n_clusters[db_scores.index(min(db_scores))]\n",
    "print(\"Optimal number of clusters:\", optimal_clusters)"
   ]
  },
  {
   "cell_type": "markdown",
   "metadata": {
    "id": "FH_YdUuNqRfy"
   },
   "source": [
    "K-means\n"
   ]
  },
  {
   "cell_type": "code",
   "execution_count": null,
   "metadata": {
    "colab": {
     "base_uri": "https://localhost:8080/",
     "height": 1000
    },
    "id": "OKxr0EOqqPbi",
    "outputId": "b8991fcc-77a3-4767-9874-56d549c71a0c",
    "is_executing": true
   },
   "outputs": [],
   "source": [
    "n_clusters = 6\n",
    "kmeans = KMeans(n_clusters)\n",
    "clusters = kmeans.fit_predict(features_reduced)\n",
    "\n",
    "# Add the cluster information to the original DataFrame\n",
    "df['group'] = clusters\n",
    "\n",
    "# Count the number of communities\n",
    "print(\"Number of wallets in each group:\\n\", df['group'].value_counts())\n",
    "\n",
    "# Visualization\n",
    "plt.figure(figsize=(8, 6))\n",
    "plt.scatter(features_reduced[:, 0], features_reduced[:, 1], c=clusters, cmap='viridis')\n",
    "plt.xlabel('PCA Feature 1')\n",
    "plt.ylabel('PCA Feature 2')\n",
    "plt.title('Wallet group with k=%d' % n_clusters)\n",
    "plt.show()\n",
    "\n",
    "plt.figure(figsize=(8, 6))\n",
    "df['group'].value_counts().plot(kind='bar', color='blue', alpha=0.7)\n",
    "plt.title('Distribution of group')\n",
    "plt.xlabel('group')\n",
    "plt.ylabel('Frequency')\n",
    "plt.xticks(rotation=45)\n",
    "plt.show()"
   ]
  },
  {
   "cell_type": "markdown",
   "metadata": {
    "id": "e-MyLXYLrnSB"
   },
   "source": [
    "Whale wallet"
   ]
  },
  {
   "cell_type": "code",
   "execution_count": null,
   "metadata": {
    "colab": {
     "base_uri": "https://localhost:8080/",
     "height": 487
    },
    "id": "2rwi9HPbr48x",
    "outputId": "ba31aad2-59a3-42ac-c66c-02b7d3604475",
    "is_executing": true
   },
   "outputs": [],
   "source": [
    "# Calculate the mean values for balanceInUSD and dailyTransactionAmounts within each group\n",
    "for group in df['group'].unique():\n",
    "    group_data = df[df['group'] == group]\n",
    "    mean_balance = group_data['balanceInUSD'].mean()\n",
    "    mean_daily_transactions = group_data['dailyTransactionAmounts'].mean()\n",
    "\n",
    "    # Update the 'is_whale' status within the group\n",
    "    df.loc[df['group'] == group, 'is_whale'] = \\\n",
    "        (df['balanceInUSD'] > mean_balance) | (df['dailyTransactionAmounts'] > mean_daily_transactions)\n",
    "\n",
    "# Calculate and plot the number of whale wallets in each group\n",
    "whale_counts = df.groupby('group')['is_whale'].sum()\n",
    "\n",
    "# Plotting\n",
    "plt.figure(figsize=(10, 6))\n",
    "whale_counts.plot(kind='bar', color='blue', alpha=0.7)\n",
    "\n",
    "# Add labels and title\n",
    "plt.xlabel('Group')\n",
    "plt.ylabel('Number of Whale Wallets')\n",
    "plt.title('Whale Wallets in Each Group')\n",
    "\n",
    "# Show the plot\n",
    "plt.xticks(rotation=45)\n",
    "plt.tight_layout()\n",
    "plt.show()\n"
   ]
  },
  {
   "cell_type": "markdown",
   "metadata": {
    "id": "KxoZg-p3s-sh"
   },
   "source": [
    "Financial Health"
   ]
  },
  {
   "cell_type": "code",
   "execution_count": null,
   "metadata": {
    "colab": {
     "base_uri": "https://localhost:8080/",
     "height": 607
    },
    "id": "DKuOkrbHs_2Z",
    "outputId": "a4e52384-4033-4ad5-990a-e66f20d843eb",
    "is_executing": true
   },
   "outputs": [],
   "source": [
    "def financial_health_within_group(df):\n",
    "    for group in df['group'].unique():\n",
    "        group_filter = df['group'] == group\n",
    "        balance_mean = df[group_filter]['balanceInUSD'].mean()\n",
    "        borrow_mean = df[group_filter]['borrowInUSD'].mean()\n",
    "\n",
    "        def categorize_financial_health(balance, borrow):\n",
    "            if balance >= balance_mean and borrow <= borrow_mean:\n",
    "                return 'Good Health'\n",
    "            else:\n",
    "                return 'At Risk'\n",
    "\n",
    "        df.loc[group_filter, 'financial_health_status'] = df[group_filter].apply(\n",
    "            lambda row: categorize_financial_health(row['balanceInUSD'], row['borrowInUSD']), axis=1)\n",
    "\n",
    "financial_health_within_group(df)\n",
    "\n",
    "# Visualize financial health status in each group\n",
    "plt.figure(figsize=(10, 6))\n",
    "sns.violinplot(x='group', y='financial_health_status', data=df)\n",
    "plt.xlabel('Group')\n",
    "plt.ylabel('Financial Health Status')\n",
    "plt.title('Financial Health in Each Group')\n",
    "\n",
    "# Show the plot\n",
    "plt.xticks(rotation=45)\n",
    "plt.tight_layout()\n",
    "plt.show()\n"
   ]
  },
  {
   "cell_type": "markdown",
   "metadata": {
    "id": "iYyLaxnNtSYE"
   },
   "source": [
    "Activity Level"
   ]
  },
  {
   "cell_type": "code",
   "execution_count": null,
   "metadata": {
    "colab": {
     "base_uri": "https://localhost:8080/",
     "height": 607
    },
    "id": "XkbcVb9HtUjs",
    "outputId": "4825d444-f8db-421c-db1e-8d5de431451d",
    "is_executing": true
   },
   "outputs": [],
   "source": [
    "def activity_level_within_group(df):\n",
    "    for group in df['group'].unique():\n",
    "        group_filter = df['group'] == group\n",
    "        transactions_mean = df[group_filter]['dailyNumberOfTransactions'].mean()\n",
    "        # Thresholds\n",
    "        level_1_threshold = transactions_mean * 0.5\n",
    "        level_2_threshold = transactions_mean * 1.5\n",
    "\n",
    "        def categorize_activity_level(x):\n",
    "            if x <= level_1_threshold:\n",
    "                return 'Level 1'\n",
    "            elif x <= level_2_threshold:\n",
    "                return 'Level 2'\n",
    "            else:\n",
    "                return 'Level 3'\n",
    "\n",
    "        df.loc[group_filter, 'activity_level_status'] = df[group_filter]['dailyNumberOfTransactions'].apply(categorize_activity_level)\n",
    "\n",
    "activity_level_within_group(df)\n",
    "\n",
    "# Visualize activity level in each group\n",
    "plt.figure(figsize=(10, 6))\n",
    "for group in df['group'].unique():\n",
    "    group_data = df[df['group'] == group]\n",
    "    plt.hist(group_data['dailyNumberOfTransactions'], bins=20, alpha=0.5, label=f'Group {group}')\n",
    "\n",
    "# Add labels and title\n",
    "plt.xlabel('Daily Number of Transactions')\n",
    "plt.ylabel('Frequency')\n",
    "plt.title('Activity Level in Each Group')\n",
    "\n",
    "# Add a legend\n",
    "plt.legend()\n",
    "\n",
    "# Show the plot\n",
    "plt.tight_layout()\n",
    "plt.show()"
   ]
  },
  {
   "cell_type": "markdown",
   "metadata": {
    "id": "qinpubqrtVjH"
   },
   "source": [
    "Token Diversity"
   ]
  },
  {
   "cell_type": "code",
   "execution_count": null,
   "metadata": {
    "colab": {
     "base_uri": "https://localhost:8080/",
     "height": 607
    },
    "id": "Niw1cItqtXis",
    "outputId": "020c92aa-e096-40d9-d84a-2e68b4507a3e",
    "is_executing": true
   },
   "outputs": [],
   "source": [
    "def token_diversity_within_group(df):\n",
    "    for group in df['group'].unique():\n",
    "        group_filter = df['group'] == group\n",
    "        tokens_mean = df[group_filter]['tokens'].mean()\n",
    "\n",
    "        df.loc[group_filter, 'token_diversity_status'] = df[group_filter]['tokens'].apply(\n",
    "            lambda x: 'High Diversity' if x >= tokens_mean else 'Low Diversity')\n",
    "\n",
    "token_diversity_within_group(df)\n",
    "\n",
    "# Visualize token diversity in each group\n",
    "plt.figure(figsize=(10, 6))\n",
    "for group in df['group'].unique():\n",
    "    group_data = df[df['group'] == group]\n",
    "    token_diversity_status = group_data['token_diversity_status'].value_counts()\n",
    "\n",
    "    # Plot the bar chart for each group\n",
    "    plt.bar(group, token_diversity_status.get('High Diversity', 0), label=f'High Diversity - Group {group}')\n",
    "    plt.bar(group, token_diversity_status.get('Low Diversity', 0), label=f'Low Diversity - Group {group}', bottom=token_diversity_status.get('High Diversity', 0))\n",
    "\n",
    "# Add labels and title\n",
    "plt.xlabel('Group')\n",
    "plt.ylabel('Number of Wallets')\n",
    "plt.title('Token Diversity in Each Group')\n",
    "\n",
    "# Add a legend\n",
    "plt.legend()\n",
    "\n",
    "# Show the plot\n",
    "plt.xticks(rotation=45)\n",
    "plt.tight_layout()\n",
    "plt.show()"
   ]
  },
  {
   "cell_type": "code",
   "execution_count": null,
   "metadata": {
    "colab": {
     "base_uri": "https://localhost:8080/",
     "height": 566
    },
    "id": "LrGNmOjfIkx-",
    "outputId": "708c55c4-c264-4b52-d6f6-2e102e589e96",
    "is_executing": true
   },
   "outputs": [],
   "source": [
    "columns_to_include = ['address', 'community', 'is_whale', 'financial_health_status', 'activity_level_status', 'token_diversity_status']\n",
    "new_df = df[columns_to_include]\n",
    "\n",
    "# output_csv_file = 'label wallet.csv'\n",
    "\n",
    "# new_df.to_csv(output_csv_file, index=False)\n",
    "\n",
    "\n",
    "plt.figure(figsize=(8, 6))\n",
    "new_df['group'].value_counts().plot(kind='bar', color='blue', alpha=0.7)\n",
    "plt.title('Distribution of Group')\n",
    "plt.xlabel('group')\n",
    "plt.ylabel('Frequency')\n",
    "plt.xticks(rotation=45)\n",
    "plt.show()"
   ]
  }
 ],
 "metadata": {
  "colab": {
   "provenance": []
  },
  "kernelspec": {
   "name": "python3",
   "language": "python",
   "display_name": "Python 3 (ipykernel)"
  },
  "language_info": {
   "name": "python"
  }
 },
 "nbformat": 4,
 "nbformat_minor": 0
}
