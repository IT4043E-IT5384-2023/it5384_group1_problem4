{
 "cells": [
  {
   "cell_type": "code",
   "execution_count": 112,
   "metadata": {
    "execution": {
     "iopub.execute_input": "2023-12-21T20:15:04.135437Z",
     "iopub.status.busy": "2023-12-21T20:15:04.135072Z",
     "iopub.status.idle": "2023-12-21T20:15:09.331659Z",
     "shell.execute_reply": "2023-12-21T20:15:09.330728Z",
     "shell.execute_reply.started": "2023-12-21T20:15:04.135408Z"
    },
    "tags": [],
    "ExecuteTime": {
     "end_time": "2024-01-11T20:55:56.147382Z",
     "start_time": "2024-01-11T20:55:55.061383400Z"
    }
   },
   "outputs": [
    {
     "name": "stdout",
     "output_type": "stream",
     "text": [
      "Requirement already satisfied: elasticsearch in d:\\laragon\\bin\\python\\python-3.10\\lib\\site-packages (8.11.1)\n",
      "Requirement already satisfied: elastic-transport<9,>=8 in d:\\laragon\\bin\\python\\python-3.10\\lib\\site-packages (from elasticsearch) (8.11.0)\n",
      "Requirement already satisfied: urllib3<3,>=1.26.2 in d:\\laragon\\bin\\python\\python-3.10\\lib\\site-packages (from elastic-transport<9,>=8->elasticsearch) (2.1.0)\n",
      "Requirement already satisfied: certifi in d:\\laragon\\bin\\python\\python-3.10\\lib\\site-packages (from elastic-transport<9,>=8->elasticsearch) (2023.7.22)\n"
     ]
    },
    {
     "name": "stderr",
     "output_type": "stream",
     "text": [
      "\n",
      "[notice] A new release of pip is available: 23.3.1 -> 23.3.2\n",
      "[notice] To update, run: python.exe -m pip install --upgrade pip\n"
     ]
    }
   ],
   "source": [
    "!pip install elasticsearch"
   ]
  },
  {
   "cell_type": "code",
   "execution_count": 113,
   "metadata": {
    "execution": {
     "iopub.execute_input": "2023-12-21T20:15:12.555772Z",
     "iopub.status.busy": "2023-12-21T20:15:12.554619Z",
     "iopub.status.idle": "2023-12-21T20:15:12.910261Z",
     "shell.execute_reply": "2023-12-21T20:15:12.909277Z",
     "shell.execute_reply.started": "2023-12-21T20:15:12.555717Z"
    },
    "tags": [],
    "ExecuteTime": {
     "end_time": "2024-01-11T20:55:56.179382500Z",
     "start_time": "2024-01-11T20:55:56.148382300Z"
    }
   },
   "outputs": [],
   "source": [
    "import pandas as pd\n",
    "from elasticsearch import helpers"
   ]
  },
  {
   "cell_type": "code",
   "execution_count": 125,
   "outputs": [
    {
     "data": {
      "text/plain": "       Unnamed: 0                                                _id  \\\n0               0         0x8daaa78bf8fc2d19fbb3b88319325607460387a3   \n1               1         0xdacfe9e62dff6487458f64092aed45a2c9599740   \n2               2         0xb7fac33f47af1160ba17eb82e7202584f73a8fad   \n3               3         0xb02fa29bfd054db5514115533b6fac39dac75391   \n4               4         0x3a95ac31729140d6ac25c80b90eceec9b929eb9e   \n...           ...                                                ...   \n37766      395081  0xa4b1_0x7e9f0b4f5b2efb71a4e8c28febab563b9317b5f9   \n37767      395082  0xa4b1_0x7f20bb8ebb2abf838442c0352c3086654ea6dbb7   \n37768      395083  0xa4b1_0x7fdfd9133b3bdac66a1ca07da1a07090c54f7c5c   \n37769      395085  0xa4b1_0x7fdfd9133b3bdac66a1ca07da1a07090c54f7c5c   \n37770      395087  0xa4b1_0x7ff4e3c2b2eff571e89adac32f511bc9b0efb5ee   \n\n                                          address      tokens  balanceInUSD  \\\n0      0x8daaa78bf8fc2d19fbb3b88319325607460387a3    0.000000      0.000000   \n1      0xdacfe9e62dff6487458f64092aed45a2c9599740    0.000000      0.000000   \n2      0xb7fac33f47af1160ba17eb82e7202584f73a8fad  455.916917    692.931648   \n3      0xb02fa29bfd054db5514115533b6fac39dac75391    2.916392      2.851570   \n4      0x3a95ac31729140d6ac25c80b90eceec9b929eb9e  190.813781     14.632724   \n...                                           ...         ...           ...   \n37766  0x7e9f0b4f5b2efb71a4e8c28febab563b9317b5f9    0.022083     52.127058   \n37767  0x7f20bb8ebb2abf838442c0352c3086654ea6dbb7    0.001856      4.381588   \n37768  0x7fdfd9133b3bdac66a1ca07da1a07090c54f7c5c  120.300542     93.332064   \n37769  0x7fdfd9133b3bdac66a1ca07da1a07090c54f7c5c  120.300542     93.332064   \n37770  0x7ff4e3c2b2eff571e89adac32f511bc9b0efb5ee    0.000000      0.000000   \n\n        borrowInUSD  borrowTokens  dailyNumberOfTransactions  \\\n0      0.000000e+00  0.000000e+00                          0   \n1      0.000000e+00  0.000000e+00                          0   \n2      0.000000e+00  0.000000e+00                         17   \n3      0.000000e+00  0.000000e+00                        324   \n4      0.000000e+00  0.000000e+00                         32   \n...             ...           ...                        ...   \n37766  0.000000e+00  0.000000e+00                          3   \n37767  0.000000e+00  0.000000e+00                          4   \n37768  3.399745e-12  1.860000e-15                          3   \n37769  3.399745e-12  1.860000e-15                          3   \n37770  0.000000e+00  0.000000e+00                          0   \n\n       dailyAllTransactions  dailyTransactionAmounts  depositInUSD  \\\n0                       NaN                 0.000000      0.000000   \n1                       NaN                 0.000000      0.000000   \n2                       NaN             30599.461345   6426.700422   \n3                       NaN              2943.522032      0.227419   \n4                       NaN              1748.144348     68.823678   \n...                     ...                      ...           ...   \n37766                  39.0                17.322288      0.002287   \n37767                  40.0               816.677394      0.000000   \n37768                  55.0              4010.011155   5286.378111   \n37769                  55.0              4010.011155   5286.378111   \n37770                  44.0                 0.000000      0.000027   \n\n                    type  numberOfLiquidation  totalValueOfLiquidation  \\\n0      multichain_wallet                  0.0                      0.0   \n1      multichain_wallet                  0.0                      0.0   \n2      multichain_wallet                  0.0                      0.0   \n3      multichain_wallet                  0.0                      0.0   \n4      multichain_wallet                  0.0                      0.0   \n...                  ...                  ...                      ...   \n37766       single_chain                  0.0                      0.0   \n37767       single_chain                  0.0                      0.0   \n37768       single_chain                  0.0                      0.0   \n37769       single_chain                  0.0                      0.0   \n37770       single_chain                  0.0                      0.0   \n\n                                            _id_contract  \\\n0        0x38_0x6694340fc020c5e6b96567843da2df01b2ce1eb6   \n1        0x38_0x6694340fc020c5e6b96567843da2df01b2ce1eb6   \n2        0x38_0x6694340fc020c5e6b96567843da2df01b2ce1eb6   \n3      0xa4b1_0x32df62dc3aed2cd6224193052ce665dc18165841   \n4      0xa4b1_0x0c1cf6883efa1b496b01f654e247b9b419873054   \n...                                                  ...   \n37766    0x38_0x6694340fc020c5e6b96567843da2df01b2ce1eb6   \n37767  0xa4b1_0xcb0e5bfa72bbb4d16ab5aa0c60601c438f04b4ad   \n37768  0xa4b1_0x7c2e0f792ea5b4a4dbd7fa7f949cf39a5c0ba185   \n37769  0xa4b1_0xab04c0841f39596c9f18a981a2bd32f63ab7a817   \n37770  0xa4b1_0x0d914606f3424804fa1bbbe56ccc3416733acec6   \n\n                                 address_contract             name_contract  \\\n0      0x6694340fc020c5e6b96567843da2df01b2ce1eb6  Stargate Finance: Bridge   \n1      0x6694340fc020c5e6b96567843da2df01b2ce1eb6  Stargate Finance: Bridge   \n2      0x6694340fc020c5e6b96567843da2df01b2ce1eb6  Stargate Finance: Bridge   \n3      0x32df62dc3aed2cd6224193052ce665dc18165841                 RDNT-WETH   \n4      0x0c1cf6883efa1b496b01f654e247b9b419873054        SushiSwap LP Token   \n...                                           ...                       ...   \n37766  0x6694340fc020c5e6b96567843da2df01b2ce1eb6  Stargate Finance: Bridge   \n37767  0xcb0e5bfa72bbb4d16ab5aa0c60601c438f04b4ad        SushiSwap LP Token   \n37768  0x7c2e0f792ea5b4a4dbd7fa7f949cf39a5c0ba185                    vdUSDT   \n37769  0xab04c0841f39596c9f18a981a2bd32f63ab7a817                    vdwETH   \n37770  0x0d914606f3424804fa1bbbe56ccc3416733acec6                      rDAI   \n\n      _id_project name_project category_project  \\\n0        stargate     Stargate      Cross Chain   \n1        stargate     Stargate      Cross Chain   \n2        stargate     Stargate      Cross Chain   \n3      radiant-v2   Radiant V2          Lending   \n4       sushiswap    SushiSwap            Dexes   \n...           ...          ...              ...   \n37766    stargate     Stargate      Cross Chain   \n37767   sushiswap    SushiSwap            Dexes   \n37768  radiant-v2   Radiant V2          Lending   \n37769  radiant-v2   Radiant V2          Lending   \n37770  radiant-v2   Radiant V2          Lending   \n\n                                                                                                                                                                                                                                                                                socialAccounts_project  \n0                                                                                {'github': 'https://github.com/stargate-protocol/stargate/tree/main/audit', 'website': 'https://stargate.finance/', 'twitter': 'https://twitter.com/StargateFinance', 'blog': 'https://medium.com/stargate-official'}  \n1                                                                                {'github': 'https://github.com/stargate-protocol/stargate/tree/main/audit', 'website': 'https://stargate.finance/', 'twitter': 'https://twitter.com/StargateFinance', 'blog': 'https://medium.com/stargate-official'}  \n2                                                                                {'github': 'https://github.com/stargate-protocol/stargate/tree/main/audit', 'website': 'https://stargate.finance/', 'twitter': 'https://twitter.com/StargateFinance', 'blog': 'https://medium.com/stargate-official'}  \n3                                                                                                                                                                                                       {'website': 'https://radiant.capital/#/markets', 'twitter': 'https://twitter.com/RDNTCapital'}  \n4      {'github': 'https://github.com/peckshield/publications/blob/master/audit_reports/PeckShield-Audit-Report-SushiSwap-v1.0.pdf', 'website': 'https://sushi.com/', 'twitter': 'https://twitter.com/SushiSwap', 'blog': 'https://medium.com/sushiswap-org', 'discord': 'https://discord.gg/hJ2p555'}  \n...                                                                                                                                                                                                                                                                                                ...  \n37766                                                                            {'github': 'https://github.com/stargate-protocol/stargate/tree/main/audit', 'website': 'https://stargate.finance/', 'twitter': 'https://twitter.com/StargateFinance', 'blog': 'https://medium.com/stargate-official'}  \n37767  {'github': 'https://github.com/peckshield/publications/blob/master/audit_reports/PeckShield-Audit-Report-SushiSwap-v1.0.pdf', 'website': 'https://sushi.com/', 'twitter': 'https://twitter.com/SushiSwap', 'blog': 'https://medium.com/sushiswap-org', 'discord': 'https://discord.gg/hJ2p555'}  \n37768                                                                                                                                                                                                   {'website': 'https://radiant.capital/#/markets', 'twitter': 'https://twitter.com/RDNTCapital'}  \n37769                                                                                                                                                                                                   {'website': 'https://radiant.capital/#/markets', 'twitter': 'https://twitter.com/RDNTCapital'}  \n37770                                                                                                                                                                                                   {'website': 'https://radiant.capital/#/markets', 'twitter': 'https://twitter.com/RDNTCapital'}  \n\n[37771 rows x 21 columns]",
      "text/html": "<div>\n<style scoped>\n    .dataframe tbody tr th:only-of-type {\n        vertical-align: middle;\n    }\n\n    .dataframe tbody tr th {\n        vertical-align: top;\n    }\n\n    .dataframe thead th {\n        text-align: right;\n    }\n</style>\n<table border=\"1\" class=\"dataframe\">\n  <thead>\n    <tr style=\"text-align: right;\">\n      <th></th>\n      <th>Unnamed: 0</th>\n      <th>_id</th>\n      <th>address</th>\n      <th>tokens</th>\n      <th>balanceInUSD</th>\n      <th>borrowInUSD</th>\n      <th>borrowTokens</th>\n      <th>dailyNumberOfTransactions</th>\n      <th>dailyAllTransactions</th>\n      <th>dailyTransactionAmounts</th>\n      <th>depositInUSD</th>\n      <th>type</th>\n      <th>numberOfLiquidation</th>\n      <th>totalValueOfLiquidation</th>\n      <th>_id_contract</th>\n      <th>address_contract</th>\n      <th>name_contract</th>\n      <th>_id_project</th>\n      <th>name_project</th>\n      <th>category_project</th>\n      <th>socialAccounts_project</th>\n    </tr>\n  </thead>\n  <tbody>\n    <tr>\n      <th>0</th>\n      <td>0</td>\n      <td>0x8daaa78bf8fc2d19fbb3b88319325607460387a3</td>\n      <td>0x8daaa78bf8fc2d19fbb3b88319325607460387a3</td>\n      <td>0.000000</td>\n      <td>0.000000</td>\n      <td>0.000000e+00</td>\n      <td>0.000000e+00</td>\n      <td>0</td>\n      <td>NaN</td>\n      <td>0.000000</td>\n      <td>0.000000</td>\n      <td>multichain_wallet</td>\n      <td>0.0</td>\n      <td>0.0</td>\n      <td>0x38_0x6694340fc020c5e6b96567843da2df01b2ce1eb6</td>\n      <td>0x6694340fc020c5e6b96567843da2df01b2ce1eb6</td>\n      <td>Stargate Finance: Bridge</td>\n      <td>stargate</td>\n      <td>Stargate</td>\n      <td>Cross Chain</td>\n      <td>{'github': 'https://github.com/stargate-protocol/stargate/tree/main/audit', 'website': 'https://stargate.finance/', 'twitter': 'https://twitter.com/StargateFinance', 'blog': 'https://medium.com/stargate-official'}</td>\n    </tr>\n    <tr>\n      <th>1</th>\n      <td>1</td>\n      <td>0xdacfe9e62dff6487458f64092aed45a2c9599740</td>\n      <td>0xdacfe9e62dff6487458f64092aed45a2c9599740</td>\n      <td>0.000000</td>\n      <td>0.000000</td>\n      <td>0.000000e+00</td>\n      <td>0.000000e+00</td>\n      <td>0</td>\n      <td>NaN</td>\n      <td>0.000000</td>\n      <td>0.000000</td>\n      <td>multichain_wallet</td>\n      <td>0.0</td>\n      <td>0.0</td>\n      <td>0x38_0x6694340fc020c5e6b96567843da2df01b2ce1eb6</td>\n      <td>0x6694340fc020c5e6b96567843da2df01b2ce1eb6</td>\n      <td>Stargate Finance: Bridge</td>\n      <td>stargate</td>\n      <td>Stargate</td>\n      <td>Cross Chain</td>\n      <td>{'github': 'https://github.com/stargate-protocol/stargate/tree/main/audit', 'website': 'https://stargate.finance/', 'twitter': 'https://twitter.com/StargateFinance', 'blog': 'https://medium.com/stargate-official'}</td>\n    </tr>\n    <tr>\n      <th>2</th>\n      <td>2</td>\n      <td>0xb7fac33f47af1160ba17eb82e7202584f73a8fad</td>\n      <td>0xb7fac33f47af1160ba17eb82e7202584f73a8fad</td>\n      <td>455.916917</td>\n      <td>692.931648</td>\n      <td>0.000000e+00</td>\n      <td>0.000000e+00</td>\n      <td>17</td>\n      <td>NaN</td>\n      <td>30599.461345</td>\n      <td>6426.700422</td>\n      <td>multichain_wallet</td>\n      <td>0.0</td>\n      <td>0.0</td>\n      <td>0x38_0x6694340fc020c5e6b96567843da2df01b2ce1eb6</td>\n      <td>0x6694340fc020c5e6b96567843da2df01b2ce1eb6</td>\n      <td>Stargate Finance: Bridge</td>\n      <td>stargate</td>\n      <td>Stargate</td>\n      <td>Cross Chain</td>\n      <td>{'github': 'https://github.com/stargate-protocol/stargate/tree/main/audit', 'website': 'https://stargate.finance/', 'twitter': 'https://twitter.com/StargateFinance', 'blog': 'https://medium.com/stargate-official'}</td>\n    </tr>\n    <tr>\n      <th>3</th>\n      <td>3</td>\n      <td>0xb02fa29bfd054db5514115533b6fac39dac75391</td>\n      <td>0xb02fa29bfd054db5514115533b6fac39dac75391</td>\n      <td>2.916392</td>\n      <td>2.851570</td>\n      <td>0.000000e+00</td>\n      <td>0.000000e+00</td>\n      <td>324</td>\n      <td>NaN</td>\n      <td>2943.522032</td>\n      <td>0.227419</td>\n      <td>multichain_wallet</td>\n      <td>0.0</td>\n      <td>0.0</td>\n      <td>0xa4b1_0x32df62dc3aed2cd6224193052ce665dc18165841</td>\n      <td>0x32df62dc3aed2cd6224193052ce665dc18165841</td>\n      <td>RDNT-WETH</td>\n      <td>radiant-v2</td>\n      <td>Radiant V2</td>\n      <td>Lending</td>\n      <td>{'website': 'https://radiant.capital/#/markets', 'twitter': 'https://twitter.com/RDNTCapital'}</td>\n    </tr>\n    <tr>\n      <th>4</th>\n      <td>4</td>\n      <td>0x3a95ac31729140d6ac25c80b90eceec9b929eb9e</td>\n      <td>0x3a95ac31729140d6ac25c80b90eceec9b929eb9e</td>\n      <td>190.813781</td>\n      <td>14.632724</td>\n      <td>0.000000e+00</td>\n      <td>0.000000e+00</td>\n      <td>32</td>\n      <td>NaN</td>\n      <td>1748.144348</td>\n      <td>68.823678</td>\n      <td>multichain_wallet</td>\n      <td>0.0</td>\n      <td>0.0</td>\n      <td>0xa4b1_0x0c1cf6883efa1b496b01f654e247b9b419873054</td>\n      <td>0x0c1cf6883efa1b496b01f654e247b9b419873054</td>\n      <td>SushiSwap LP Token</td>\n      <td>sushiswap</td>\n      <td>SushiSwap</td>\n      <td>Dexes</td>\n      <td>{'github': 'https://github.com/peckshield/publications/blob/master/audit_reports/PeckShield-Audit-Report-SushiSwap-v1.0.pdf', 'website': 'https://sushi.com/', 'twitter': 'https://twitter.com/SushiSwap', 'blog': 'https://medium.com/sushiswap-org', 'discord': 'https://discord.gg/hJ2p555'}</td>\n    </tr>\n    <tr>\n      <th>...</th>\n      <td>...</td>\n      <td>...</td>\n      <td>...</td>\n      <td>...</td>\n      <td>...</td>\n      <td>...</td>\n      <td>...</td>\n      <td>...</td>\n      <td>...</td>\n      <td>...</td>\n      <td>...</td>\n      <td>...</td>\n      <td>...</td>\n      <td>...</td>\n      <td>...</td>\n      <td>...</td>\n      <td>...</td>\n      <td>...</td>\n      <td>...</td>\n      <td>...</td>\n      <td>...</td>\n    </tr>\n    <tr>\n      <th>37766</th>\n      <td>395081</td>\n      <td>0xa4b1_0x7e9f0b4f5b2efb71a4e8c28febab563b9317b5f9</td>\n      <td>0x7e9f0b4f5b2efb71a4e8c28febab563b9317b5f9</td>\n      <td>0.022083</td>\n      <td>52.127058</td>\n      <td>0.000000e+00</td>\n      <td>0.000000e+00</td>\n      <td>3</td>\n      <td>39.0</td>\n      <td>17.322288</td>\n      <td>0.002287</td>\n      <td>single_chain</td>\n      <td>0.0</td>\n      <td>0.0</td>\n      <td>0x38_0x6694340fc020c5e6b96567843da2df01b2ce1eb6</td>\n      <td>0x6694340fc020c5e6b96567843da2df01b2ce1eb6</td>\n      <td>Stargate Finance: Bridge</td>\n      <td>stargate</td>\n      <td>Stargate</td>\n      <td>Cross Chain</td>\n      <td>{'github': 'https://github.com/stargate-protocol/stargate/tree/main/audit', 'website': 'https://stargate.finance/', 'twitter': 'https://twitter.com/StargateFinance', 'blog': 'https://medium.com/stargate-official'}</td>\n    </tr>\n    <tr>\n      <th>37767</th>\n      <td>395082</td>\n      <td>0xa4b1_0x7f20bb8ebb2abf838442c0352c3086654ea6dbb7</td>\n      <td>0x7f20bb8ebb2abf838442c0352c3086654ea6dbb7</td>\n      <td>0.001856</td>\n      <td>4.381588</td>\n      <td>0.000000e+00</td>\n      <td>0.000000e+00</td>\n      <td>4</td>\n      <td>40.0</td>\n      <td>816.677394</td>\n      <td>0.000000</td>\n      <td>single_chain</td>\n      <td>0.0</td>\n      <td>0.0</td>\n      <td>0xa4b1_0xcb0e5bfa72bbb4d16ab5aa0c60601c438f04b4ad</td>\n      <td>0xcb0e5bfa72bbb4d16ab5aa0c60601c438f04b4ad</td>\n      <td>SushiSwap LP Token</td>\n      <td>sushiswap</td>\n      <td>SushiSwap</td>\n      <td>Dexes</td>\n      <td>{'github': 'https://github.com/peckshield/publications/blob/master/audit_reports/PeckShield-Audit-Report-SushiSwap-v1.0.pdf', 'website': 'https://sushi.com/', 'twitter': 'https://twitter.com/SushiSwap', 'blog': 'https://medium.com/sushiswap-org', 'discord': 'https://discord.gg/hJ2p555'}</td>\n    </tr>\n    <tr>\n      <th>37768</th>\n      <td>395083</td>\n      <td>0xa4b1_0x7fdfd9133b3bdac66a1ca07da1a07090c54f7c5c</td>\n      <td>0x7fdfd9133b3bdac66a1ca07da1a07090c54f7c5c</td>\n      <td>120.300542</td>\n      <td>93.332064</td>\n      <td>3.399745e-12</td>\n      <td>1.860000e-15</td>\n      <td>3</td>\n      <td>55.0</td>\n      <td>4010.011155</td>\n      <td>5286.378111</td>\n      <td>single_chain</td>\n      <td>0.0</td>\n      <td>0.0</td>\n      <td>0xa4b1_0x7c2e0f792ea5b4a4dbd7fa7f949cf39a5c0ba185</td>\n      <td>0x7c2e0f792ea5b4a4dbd7fa7f949cf39a5c0ba185</td>\n      <td>vdUSDT</td>\n      <td>radiant-v2</td>\n      <td>Radiant V2</td>\n      <td>Lending</td>\n      <td>{'website': 'https://radiant.capital/#/markets', 'twitter': 'https://twitter.com/RDNTCapital'}</td>\n    </tr>\n    <tr>\n      <th>37769</th>\n      <td>395085</td>\n      <td>0xa4b1_0x7fdfd9133b3bdac66a1ca07da1a07090c54f7c5c</td>\n      <td>0x7fdfd9133b3bdac66a1ca07da1a07090c54f7c5c</td>\n      <td>120.300542</td>\n      <td>93.332064</td>\n      <td>3.399745e-12</td>\n      <td>1.860000e-15</td>\n      <td>3</td>\n      <td>55.0</td>\n      <td>4010.011155</td>\n      <td>5286.378111</td>\n      <td>single_chain</td>\n      <td>0.0</td>\n      <td>0.0</td>\n      <td>0xa4b1_0xab04c0841f39596c9f18a981a2bd32f63ab7a817</td>\n      <td>0xab04c0841f39596c9f18a981a2bd32f63ab7a817</td>\n      <td>vdwETH</td>\n      <td>radiant-v2</td>\n      <td>Radiant V2</td>\n      <td>Lending</td>\n      <td>{'website': 'https://radiant.capital/#/markets', 'twitter': 'https://twitter.com/RDNTCapital'}</td>\n    </tr>\n    <tr>\n      <th>37770</th>\n      <td>395087</td>\n      <td>0xa4b1_0x7ff4e3c2b2eff571e89adac32f511bc9b0efb5ee</td>\n      <td>0x7ff4e3c2b2eff571e89adac32f511bc9b0efb5ee</td>\n      <td>0.000000</td>\n      <td>0.000000</td>\n      <td>0.000000e+00</td>\n      <td>0.000000e+00</td>\n      <td>0</td>\n      <td>44.0</td>\n      <td>0.000000</td>\n      <td>0.000027</td>\n      <td>single_chain</td>\n      <td>0.0</td>\n      <td>0.0</td>\n      <td>0xa4b1_0x0d914606f3424804fa1bbbe56ccc3416733acec6</td>\n      <td>0x0d914606f3424804fa1bbbe56ccc3416733acec6</td>\n      <td>rDAI</td>\n      <td>radiant-v2</td>\n      <td>Radiant V2</td>\n      <td>Lending</td>\n      <td>{'website': 'https://radiant.capital/#/markets', 'twitter': 'https://twitter.com/RDNTCapital'}</td>\n    </tr>\n  </tbody>\n</table>\n<p>37771 rows × 21 columns</p>\n</div>"
     },
     "execution_count": 125,
     "metadata": {},
     "output_type": "execute_result"
    }
   ],
   "source": [
    "data = pd.read_csv(\"clean_final.csv\")\n",
    "data"
   ],
   "metadata": {
    "collapsed": false,
    "ExecuteTime": {
     "end_time": "2024-01-11T21:03:43.820477500Z",
     "start_time": "2024-01-11T21:03:43.682477900Z"
    }
   }
  },
  {
   "cell_type": "code",
   "execution_count": 144,
   "metadata": {
    "execution": {
     "iopub.execute_input": "2023-12-21T20:15:29.180750Z",
     "iopub.status.busy": "2023-12-21T20:15:29.179648Z",
     "iopub.status.idle": "2023-12-21T20:15:39.674632Z",
     "shell.execute_reply": "2023-12-21T20:15:39.673514Z",
     "shell.execute_reply.started": "2023-12-21T20:15:29.180710Z"
    },
    "tags": [],
    "ExecuteTime": {
     "end_time": "2024-01-11T21:26:13.388222400Z",
     "start_time": "2024-01-11T21:26:13.345221300Z"
    }
   },
   "outputs": [
    {
     "ename": "KeyError",
     "evalue": "\"['Unnamed: 0'] not found in axis\"",
     "output_type": "error",
     "traceback": [
      "\u001B[1;31m---------------------------------------------------------------------------\u001B[0m",
      "\u001B[1;31mKeyError\u001B[0m                                  Traceback (most recent call last)",
      "Cell \u001B[1;32mIn[144], line 1\u001B[0m\n\u001B[1;32m----> 1\u001B[0m \u001B[43mdata\u001B[49m\u001B[38;5;241;43m.\u001B[39;49m\u001B[43mdrop\u001B[49m\u001B[43m(\u001B[49m\u001B[43mcolumns\u001B[49m\u001B[38;5;241;43m=\u001B[39;49m\u001B[43m[\u001B[49m\u001B[38;5;124;43m'\u001B[39;49m\u001B[38;5;124;43mUnnamed: 0\u001B[39;49m\u001B[38;5;124;43m'\u001B[39;49m\u001B[43m]\u001B[49m\u001B[43m,\u001B[49m\u001B[43m \u001B[49m\u001B[43minplace\u001B[49m\u001B[38;5;241;43m=\u001B[39;49m\u001B[38;5;28;43;01mTrue\u001B[39;49;00m\u001B[43m)\u001B[49m\n\u001B[0;32m      3\u001B[0m data[\u001B[38;5;124m'\u001B[39m\u001B[38;5;124mtokens\u001B[39m\u001B[38;5;124m'\u001B[39m] \u001B[38;5;241m=\u001B[39m data[\u001B[38;5;124m'\u001B[39m\u001B[38;5;124mtokens\u001B[39m\u001B[38;5;124m'\u001B[39m]\u001B[38;5;241m.\u001B[39mfillna(\u001B[38;5;241m0\u001B[39m)\n\u001B[0;32m      4\u001B[0m data[\u001B[38;5;124m'\u001B[39m\u001B[38;5;124mbalanceInUSD\u001B[39m\u001B[38;5;124m'\u001B[39m] \u001B[38;5;241m=\u001B[39m data[\u001B[38;5;124m'\u001B[39m\u001B[38;5;124mbalanceInUSD\u001B[39m\u001B[38;5;124m'\u001B[39m]\u001B[38;5;241m.\u001B[39mfillna(\u001B[38;5;241m0\u001B[39m)\n",
      "File \u001B[1;32mD:\\laragon\\bin\\python\\python-3.10\\lib\\site-packages\\pandas\\core\\frame.py:5344\u001B[0m, in \u001B[0;36mDataFrame.drop\u001B[1;34m(self, labels, axis, index, columns, level, inplace, errors)\u001B[0m\n\u001B[0;32m   5196\u001B[0m \u001B[38;5;28;01mdef\u001B[39;00m \u001B[38;5;21mdrop\u001B[39m(\n\u001B[0;32m   5197\u001B[0m     \u001B[38;5;28mself\u001B[39m,\n\u001B[0;32m   5198\u001B[0m     labels: IndexLabel \u001B[38;5;241m|\u001B[39m \u001B[38;5;28;01mNone\u001B[39;00m \u001B[38;5;241m=\u001B[39m \u001B[38;5;28;01mNone\u001B[39;00m,\n\u001B[1;32m   (...)\u001B[0m\n\u001B[0;32m   5205\u001B[0m     errors: IgnoreRaise \u001B[38;5;241m=\u001B[39m \u001B[38;5;124m\"\u001B[39m\u001B[38;5;124mraise\u001B[39m\u001B[38;5;124m\"\u001B[39m,\n\u001B[0;32m   5206\u001B[0m ) \u001B[38;5;241m-\u001B[39m\u001B[38;5;241m>\u001B[39m DataFrame \u001B[38;5;241m|\u001B[39m \u001B[38;5;28;01mNone\u001B[39;00m:\n\u001B[0;32m   5207\u001B[0m \u001B[38;5;250m    \u001B[39m\u001B[38;5;124;03m\"\"\"\u001B[39;00m\n\u001B[0;32m   5208\u001B[0m \u001B[38;5;124;03m    Drop specified labels from rows or columns.\u001B[39;00m\n\u001B[0;32m   5209\u001B[0m \n\u001B[1;32m   (...)\u001B[0m\n\u001B[0;32m   5342\u001B[0m \u001B[38;5;124;03m            weight  1.0     0.8\u001B[39;00m\n\u001B[0;32m   5343\u001B[0m \u001B[38;5;124;03m    \"\"\"\u001B[39;00m\n\u001B[1;32m-> 5344\u001B[0m     \u001B[38;5;28;01mreturn\u001B[39;00m \u001B[38;5;28;43msuper\u001B[39;49m\u001B[43m(\u001B[49m\u001B[43m)\u001B[49m\u001B[38;5;241;43m.\u001B[39;49m\u001B[43mdrop\u001B[49m\u001B[43m(\u001B[49m\n\u001B[0;32m   5345\u001B[0m \u001B[43m        \u001B[49m\u001B[43mlabels\u001B[49m\u001B[38;5;241;43m=\u001B[39;49m\u001B[43mlabels\u001B[49m\u001B[43m,\u001B[49m\n\u001B[0;32m   5346\u001B[0m \u001B[43m        \u001B[49m\u001B[43maxis\u001B[49m\u001B[38;5;241;43m=\u001B[39;49m\u001B[43maxis\u001B[49m\u001B[43m,\u001B[49m\n\u001B[0;32m   5347\u001B[0m \u001B[43m        \u001B[49m\u001B[43mindex\u001B[49m\u001B[38;5;241;43m=\u001B[39;49m\u001B[43mindex\u001B[49m\u001B[43m,\u001B[49m\n\u001B[0;32m   5348\u001B[0m \u001B[43m        \u001B[49m\u001B[43mcolumns\u001B[49m\u001B[38;5;241;43m=\u001B[39;49m\u001B[43mcolumns\u001B[49m\u001B[43m,\u001B[49m\n\u001B[0;32m   5349\u001B[0m \u001B[43m        \u001B[49m\u001B[43mlevel\u001B[49m\u001B[38;5;241;43m=\u001B[39;49m\u001B[43mlevel\u001B[49m\u001B[43m,\u001B[49m\n\u001B[0;32m   5350\u001B[0m \u001B[43m        \u001B[49m\u001B[43minplace\u001B[49m\u001B[38;5;241;43m=\u001B[39;49m\u001B[43minplace\u001B[49m\u001B[43m,\u001B[49m\n\u001B[0;32m   5351\u001B[0m \u001B[43m        \u001B[49m\u001B[43merrors\u001B[49m\u001B[38;5;241;43m=\u001B[39;49m\u001B[43merrors\u001B[49m\u001B[43m,\u001B[49m\n\u001B[0;32m   5352\u001B[0m \u001B[43m    \u001B[49m\u001B[43m)\u001B[49m\n",
      "File \u001B[1;32mD:\\laragon\\bin\\python\\python-3.10\\lib\\site-packages\\pandas\\core\\generic.py:4711\u001B[0m, in \u001B[0;36mNDFrame.drop\u001B[1;34m(self, labels, axis, index, columns, level, inplace, errors)\u001B[0m\n\u001B[0;32m   4709\u001B[0m \u001B[38;5;28;01mfor\u001B[39;00m axis, labels \u001B[38;5;129;01min\u001B[39;00m axes\u001B[38;5;241m.\u001B[39mitems():\n\u001B[0;32m   4710\u001B[0m     \u001B[38;5;28;01mif\u001B[39;00m labels \u001B[38;5;129;01mis\u001B[39;00m \u001B[38;5;129;01mnot\u001B[39;00m \u001B[38;5;28;01mNone\u001B[39;00m:\n\u001B[1;32m-> 4711\u001B[0m         obj \u001B[38;5;241m=\u001B[39m \u001B[43mobj\u001B[49m\u001B[38;5;241;43m.\u001B[39;49m\u001B[43m_drop_axis\u001B[49m\u001B[43m(\u001B[49m\u001B[43mlabels\u001B[49m\u001B[43m,\u001B[49m\u001B[43m \u001B[49m\u001B[43maxis\u001B[49m\u001B[43m,\u001B[49m\u001B[43m \u001B[49m\u001B[43mlevel\u001B[49m\u001B[38;5;241;43m=\u001B[39;49m\u001B[43mlevel\u001B[49m\u001B[43m,\u001B[49m\u001B[43m \u001B[49m\u001B[43merrors\u001B[49m\u001B[38;5;241;43m=\u001B[39;49m\u001B[43merrors\u001B[49m\u001B[43m)\u001B[49m\n\u001B[0;32m   4713\u001B[0m \u001B[38;5;28;01mif\u001B[39;00m inplace:\n\u001B[0;32m   4714\u001B[0m     \u001B[38;5;28mself\u001B[39m\u001B[38;5;241m.\u001B[39m_update_inplace(obj)\n",
      "File \u001B[1;32mD:\\laragon\\bin\\python\\python-3.10\\lib\\site-packages\\pandas\\core\\generic.py:4753\u001B[0m, in \u001B[0;36mNDFrame._drop_axis\u001B[1;34m(self, labels, axis, level, errors, only_slice)\u001B[0m\n\u001B[0;32m   4751\u001B[0m         new_axis \u001B[38;5;241m=\u001B[39m axis\u001B[38;5;241m.\u001B[39mdrop(labels, level\u001B[38;5;241m=\u001B[39mlevel, errors\u001B[38;5;241m=\u001B[39merrors)\n\u001B[0;32m   4752\u001B[0m     \u001B[38;5;28;01melse\u001B[39;00m:\n\u001B[1;32m-> 4753\u001B[0m         new_axis \u001B[38;5;241m=\u001B[39m \u001B[43maxis\u001B[49m\u001B[38;5;241;43m.\u001B[39;49m\u001B[43mdrop\u001B[49m\u001B[43m(\u001B[49m\u001B[43mlabels\u001B[49m\u001B[43m,\u001B[49m\u001B[43m \u001B[49m\u001B[43merrors\u001B[49m\u001B[38;5;241;43m=\u001B[39;49m\u001B[43merrors\u001B[49m\u001B[43m)\u001B[49m\n\u001B[0;32m   4754\u001B[0m     indexer \u001B[38;5;241m=\u001B[39m axis\u001B[38;5;241m.\u001B[39mget_indexer(new_axis)\n\u001B[0;32m   4756\u001B[0m \u001B[38;5;66;03m# Case for non-unique axis\u001B[39;00m\n\u001B[0;32m   4757\u001B[0m \u001B[38;5;28;01melse\u001B[39;00m:\n",
      "File \u001B[1;32mD:\\laragon\\bin\\python\\python-3.10\\lib\\site-packages\\pandas\\core\\indexes\\base.py:6992\u001B[0m, in \u001B[0;36mIndex.drop\u001B[1;34m(self, labels, errors)\u001B[0m\n\u001B[0;32m   6990\u001B[0m \u001B[38;5;28;01mif\u001B[39;00m mask\u001B[38;5;241m.\u001B[39many():\n\u001B[0;32m   6991\u001B[0m     \u001B[38;5;28;01mif\u001B[39;00m errors \u001B[38;5;241m!=\u001B[39m \u001B[38;5;124m\"\u001B[39m\u001B[38;5;124mignore\u001B[39m\u001B[38;5;124m\"\u001B[39m:\n\u001B[1;32m-> 6992\u001B[0m         \u001B[38;5;28;01mraise\u001B[39;00m \u001B[38;5;167;01mKeyError\u001B[39;00m(\u001B[38;5;124mf\u001B[39m\u001B[38;5;124m\"\u001B[39m\u001B[38;5;132;01m{\u001B[39;00mlabels[mask]\u001B[38;5;241m.\u001B[39mtolist()\u001B[38;5;132;01m}\u001B[39;00m\u001B[38;5;124m not found in axis\u001B[39m\u001B[38;5;124m\"\u001B[39m)\n\u001B[0;32m   6993\u001B[0m     indexer \u001B[38;5;241m=\u001B[39m indexer[\u001B[38;5;241m~\u001B[39mmask]\n\u001B[0;32m   6994\u001B[0m \u001B[38;5;28;01mreturn\u001B[39;00m \u001B[38;5;28mself\u001B[39m\u001B[38;5;241m.\u001B[39mdelete(indexer)\n",
      "\u001B[1;31mKeyError\u001B[0m: \"['Unnamed: 0'] not found in axis\""
     ]
    }
   ],
   "source": [
    "data.drop(columns=['Unnamed: 0'], inplace=True)\n",
    "\n",
    "data['tokens'] = data['tokens'].fillna(0)\n",
    "data['balanceInUSD'] = data['balanceInUSD'].fillna(0)\n",
    "data['dailyTransactionAmounts'] = data['dailyTransactionAmounts'].fillna(0)\n",
    "data['borrowInUSD'] = data['borrowInUSD'].fillna(0)\n",
    "data['borrowTokens'] = data['borrowTokens'].fillna(0)\n",
    "data['dailyNumberOfTransactions'] = data['dailyNumberOfTransactions'].fillna(0)\n",
    "data['dailyAllTransactions'] = data['dailyAllTransactions'].fillna(0)\n",
    "data['depositInUSD'] = data['depositInUSD'].fillna(0)\n",
    "data['type'] = data['type'].fillna(\"\")\n",
    "data['numberOfLiquidation'] = data['numberOfLiquidation'].fillna(0)\n",
    "data['totalValueOfLiquidation'] = data['totalValueOfLiquidation'].fillna(0)\n",
    "data['_id_contract'] = data['_id_contract'].fillna(\"\")\n",
    "data['address_contract'] = data['address_contract'].fillna(\"\")\n",
    "data['name_contract'] = data['name_contract'].fillna(\"\")\n",
    "data['_id_project'] = data['_id_project'].fillna(\"\")\n",
    "data['name_project'] = data['name_project'].fillna(\"\")\n",
    "data['category_project'] = data['category_project'].fillna(\"\")\n",
    "data['socialAccounts_project'] = data['socialAccounts_project'].fillna(\"{}\")\n",
    "data"
   ]
  },
  {
   "cell_type": "code",
   "execution_count": 135,
   "outputs": [],
   "source": [
    "from elasticsearch import Elasticsearch\n",
    "es = Elasticsearch(\"http://34.143.255.36:9200/\", basic_auth=('elastic', 'elastic2023'))"
   ],
   "metadata": {
    "collapsed": false,
    "ExecuteTime": {
     "end_time": "2024-01-11T21:09:13.568603Z",
     "start_time": "2024-01-11T21:09:13.553603400Z"
    }
   }
  },
  {
   "cell_type": "code",
   "execution_count": 117,
   "metadata": {
    "execution": {
     "iopub.execute_input": "2023-12-21T20:22:12.843986Z",
     "iopub.status.busy": "2023-12-21T20:22:12.842865Z",
     "iopub.status.idle": "2023-12-21T20:22:12.851725Z",
     "shell.execute_reply": "2023-12-21T20:22:12.850923Z",
     "shell.execute_reply.started": "2023-12-21T20:22:12.843951Z"
    },
    "tags": [],
    "ExecuteTime": {
     "end_time": "2024-01-11T20:55:56.400382400Z",
     "start_time": "2024-01-11T20:55:56.334383Z"
    }
   },
   "outputs": [
    {
     "data": {
      "text/plain": "_id                                                                              0xb02fa29bfd054db5514115533b6fac39dac75391\naddress                                                                          0xb02fa29bfd054db5514115533b6fac39dac75391\ntokens                                                                                                             2.916392\nbalanceInUSD                                                                                                        2.85157\nborrowInUSD                                                                                                             0.0\nborrowTokens                                                                                                            0.0\ndailyNumberOfTransactions                                                                                               324\ndailyAllTransactions                                                                                                    0.0\ndailyTransactionAmounts                                                                                         2943.522032\ndepositInUSD                                                                                                       0.227419\ntype                                                                                                      multichain_wallet\nnumberOfLiquidation                                                                                                     0.0\ntotalValueOfLiquidation                                                                                                 0.0\n_id_contract                                                              0xa4b1_0x32df62dc3aed2cd6224193052ce665dc18165841\naddress_contract                                                                 0x32df62dc3aed2cd6224193052ce665dc18165841\nname_contract                                                                                                     RDNT-WETH\n_id_project                                                                                                      radiant-v2\nname_project                                                                                                     Radiant V2\ncategory_project                                                                                                    Lending\nsocialAccounts_project       {'website': 'https://radiant.capital/#/markets', 'twitter': 'https://twitter.com/RDNTCapital'}\nName: 3, dtype: object"
     },
     "execution_count": 117,
     "metadata": {},
     "output_type": "execute_result"
    }
   ],
   "source": [
    "data.loc[3]"
   ]
  },
  {
   "cell_type": "code",
   "outputs": [
    {
     "name": "stderr",
     "output_type": "stream",
     "text": [
      "IOPub data rate exceeded.\n",
      "The Jupyter server will temporarily stop sending output\n",
      "to the client in order to avoid crashing it.\n",
      "To change this limit, set the config variable\n",
      "`--ServerApp.iopub_data_rate_limit`.\n",
      "\n",
      "Current values:\n",
      "ServerApp.iopub_data_rate_limit=1000000.0 (bytes/sec)\n",
      "ServerApp.rate_limit_window=3.0 (secs)\n",
      "\n"
     ]
    }
   ],
   "source": [
    "for i, row in data.iterrows():\n",
    "    a = dict(row)\n",
    "    print(a)"
   ],
   "metadata": {
    "collapsed": false,
    "ExecuteTime": {
     "end_time": "2024-01-11T21:05:33.324197Z",
     "start_time": "2024-01-11T21:05:31.121197Z"
    }
   },
   "execution_count": 131
  },
  {
   "cell_type": "code",
   "execution_count": 147,
   "outputs": [],
   "source": [
    "from elasticsearch import helpers\n",
    "\n",
    "def index_data_to_elasticsearch(df):\n",
    "    actions = []\n",
    "    for i, row in df.iterrows():\n",
    "        action = {\n",
    "            \"_op_type\": \"index\",\n",
    "            \"_index\": \"it5384_group06_chaindata\",\n",
    "            \"_source\": {\n",
    "                'tokens': row['tokens'],\n",
    "                'balanceInUSD': row['balanceInUSD'],\n",
    "                'dailyTransactionAmounts':row['dailyTransactionAmounts'],\n",
    "                'borrowInUSD':row['borrowInUSD'],\n",
    "                'borrowTokens':row['borrowTokens'],\n",
    "                'dailyNumberOfTransactions':row['dailyNumberOfTransactions'],\n",
    "                'dailyAllTransactions':row['dailyAllTransactions'],\n",
    "                'depositInUSD':row['depositInUSD'],\n",
    "                'type':row['type'],\n",
    "                'numberOfLiquidation':row['numberOfLiquidation'],\n",
    "                'totalValueOfLiquidation':row['totalValueOfLiquidation'],\n",
    "                '_id_contract':row['_id_contract'],\n",
    "                'address_contract':row['address_contract'],\n",
    "                'name_contract':row['name_contract'],\n",
    "                '_id_project':row['_id_project'],\n",
    "                'name_project':row['name_project'],\n",
    "                'category_project':row['category_project'],\n",
    "                'socialAccounts_project':row['socialAccounts_project'],\n",
    "        }\n",
    "        }\n",
    "        actions.append(action)\n",
    "\n",
    "    response = helpers.bulk(es, actions)\n",
    "\n",
    "    # Check the response for any errors\n",
    "    if response[0] > 0:\n",
    "        print(f\"Successfully indexed {response[0]} documents.\")\n",
    "    else:\n",
    "        print(\"Bulk indexing failed.\")"
   ],
   "metadata": {
    "execution": {
     "iopub.execute_input": "2023-12-21T20:18:46.497224Z",
     "iopub.status.busy": "2023-12-21T20:18:46.496591Z",
     "iopub.status.idle": "2023-12-21T20:18:46.503046Z",
     "shell.execute_reply": "2023-12-21T20:18:46.502237Z",
     "shell.execute_reply.started": "2023-12-21T20:18:46.497184Z"
    },
    "tags": [],
    "ExecuteTime": {
     "end_time": "2024-01-11T21:27:01.072017200Z",
     "start_time": "2024-01-11T21:27:01.055016900Z"
    }
   }
  },
  {
   "cell_type": "code",
   "execution_count": 148,
   "metadata": {
    "execution": {
     "iopub.execute_input": "2023-12-21T20:18:47.574286Z",
     "iopub.status.busy": "2023-12-21T20:18:47.573019Z",
     "iopub.status.idle": "2023-12-21T20:20:04.740073Z",
     "shell.execute_reply": "2023-12-21T20:20:04.738058Z",
     "shell.execute_reply.started": "2023-12-21T20:18:47.574247Z"
    },
    "tags": [],
    "ExecuteTime": {
     "end_time": "2024-01-11T21:27:22.495598600Z",
     "start_time": "2024-01-11T21:27:07.584028500Z"
    }
   },
   "outputs": [
    {
     "name": "stdout",
     "output_type": "stream",
     "text": [
      "Successfully indexed 37771 documents.\n"
     ]
    }
   ],
   "source": [
    "# Define index name\n",
    "\n",
    "# Delete the index if it exists\n",
    "# es.indices.delete(index='it5384_group06_chaindata', ignore=[400, 404])\n",
    "\n",
    "# Create a new index with the correct mappings\n",
    "# es.indices.create(index='it5384_group06_chaindata', \n",
    "#     body={    \n",
    "#         'mappings': {\n",
    "#             'properties': {\n",
    "#             'user': {\n",
    "#                 'properties': {\n",
    "#                     '_id': {'type': 'keyword'},\n",
    "#                     'address': {'type': 'text'},\n",
    "#                     'tokens': {'type': 'long'},\n",
    "#                     'balanceInUSD': {'type': 'float'},\n",
    "#                     'borrowTokens': {'type': 'float'},\n",
    "#                     'dailyNumberOfTransactions': {'type': 'long'},\n",
    "#                     'dailyAllTransactions': {'type': 'float'},\n",
    "#                     'dailyTransactionAmounts': {'type': 'float'},\n",
    "#                     'depositInUSD': {'type': 'long'},\n",
    "#                     'type': {'type': 'text'},\n",
    "#                     'numberOfLiquidation': {'type': 'long'},\n",
    "#                     'totalValueOfLiquidation': {'type': 'long'},\n",
    "#                     '_id_contract': {'type': 'text'},\n",
    "#                     'address_contract': {'type': 'text'},\n",
    "#                     'name_contract': {'type': 'text'},\n",
    "#                     '_id_project': {'type': 'text'},\n",
    "#                     'name_project': {'type': 'text'},\n",
    "#                     'category_project': {'type': 'text'},      \n",
    "#                     'socialAccounts_project': {'type': 'object'},\n",
    "#                 }\n",
    "#             },\n",
    "#             'projects_following': {\n",
    "#                 'type': 'nested',\n",
    "#                 'properties': {\n",
    "#                     'category': {'type': 'keyword'},\n",
    "#                     'project': {'type': 'keyword'}\n",
    "#                 }\n",
    "#             },\n",
    "#         }\n",
    "#     }\n",
    "#     }, ignore=400\n",
    "# )\n",
    "index_data_to_elasticsearch(data)\n",
    "# es.indices.refresh(index=index_name)"
   ]
  },
  {
   "cell_type": "code",
   "outputs": [],
   "source": [],
   "metadata": {
    "collapsed": false,
    "ExecuteTime": {
     "start_time": "2024-01-11T20:55:58.798020400Z"
    }
   },
   "execution_count": null
  }
 ],
 "metadata": {
  "kernelspec": {
   "display_name": "Python 3 (ipykernel)",
   "language": "python",
   "name": "python3"
  },
  "language_info": {
   "codemirror_mode": {
    "name": "ipython",
    "version": 3
   },
   "file_extension": ".py",
   "mimetype": "text/x-python",
   "name": "python",
   "nbconvert_exporter": "python",
   "pygments_lexer": "ipython3",
   "version": "3.11.5"
  }
 },
 "nbformat": 4,
 "nbformat_minor": 4
}
